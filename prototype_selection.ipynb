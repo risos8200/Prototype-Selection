{
 "cells": [
  {
   "cell_type": "code",
   "execution_count": 1,
   "id": "9eb7c584-4450-4c59-86d7-1228f384da12",
   "metadata": {},
   "outputs": [],
   "source": [
    "from sklearn.neighbors import KNeighborsClassifier\n",
    "from sklearn.metrics import accuracy_score\n",
    "from matplotlib import pyplot\n",
    "from keras.datasets import mnist\n",
    "import numpy as np\n",
    "from sklearn.cluster import KMeans\n",
    "from sklearn.metrics import pairwise_distances_argmin_min"
   ]
  },
  {
   "cell_type": "code",
   "execution_count": 2,
   "id": "a7669b06-6f31-44a5-9436-5b19cd4c1495",
   "metadata": {},
   "outputs": [
    {
     "name": "stdout",
     "output_type": "stream",
     "text": [
      "X_train.shape = (60000, 784)\n",
      "Y_train.shape = (60000,)\n",
      "X_test.shape = (10000, 784)\n",
      "Y_test.shape = (10000,)\n"
     ]
    }
   ],
   "source": [
    "(X_train, Y_train), (X_test, Y_test) = mnist.load_data()\n",
    "\n",
    "X_train = X_train.reshape((60000, 28 * 28))\n",
    "X_test = X_test.reshape((10000, 28 * 28))\n",
    "\n",
    "print(\"X_train.shape = {}\".format(X_train.shape))\n",
    "print(\"Y_train.shape = {}\".format(Y_train.shape))\n",
    "print(\"X_test.shape = {}\".format(X_test.shape))\n",
    "print(\"Y_test.shape = {}\".format(Y_test.shape))"
   ]
  },
  {
   "cell_type": "code",
   "execution_count": 3,
   "id": "865093b1-9c23-4371-a9ef-f36a885df6f4",
   "metadata": {},
   "outputs": [],
   "source": [
    "def model_knn(X, Y):\n",
    "    model = KNeighborsClassifier(n_neighbors = 1)\n",
    "    model.fit(X, Y)\n",
    "\n",
    "    Y_predict = model.predict(X_test)\n",
    "    accuracy = accuracy_score(Y_test, Y_predict)\n",
    "    return(accuracy)"
   ]
  },
  {
   "cell_type": "code",
   "execution_count": 4,
   "id": "95b6b9c5-7ebb-4773-98cd-82f0210fd0ad",
   "metadata": {},
   "outputs": [],
   "source": [
    "def random_p(M):\n",
    "    choose= np.random.choice(len(X_train), M, replace=False)\n",
    "    return X_train[choose,:], Y_train[choose] "
   ]
  },
  {
   "cell_type": "code",
   "execution_count": 5,
   "id": "c7108e0d-796a-4304-9ba1-f96d2d6a1006",
   "metadata": {},
   "outputs": [],
   "source": [
    "acc_ran_1000=[]\n",
    "acc_ran_5000=[]\n",
    "acc_ran_10000=[]"
   ]
  },
  {
   "cell_type": "code",
   "execution_count": 6,
   "id": "537a2506-7cd7-465b-989c-45879706f7d1",
   "metadata": {},
   "outputs": [
    {
     "name": "stdout",
     "output_type": "stream",
     "text": [
      "X_train.shape = (1000, 784)\n",
      "Y_train.shape = (1000,)\n",
      "0.8816\n",
      "X_train.shape = (1000, 784)\n",
      "Y_train.shape = (1000,)\n",
      "0.8885\n",
      "X_train.shape = (1000, 784)\n",
      "Y_train.shape = (1000,)\n",
      "0.8825\n",
      "X_train.shape = (1000, 784)\n",
      "Y_train.shape = (1000,)\n",
      "0.887\n"
     ]
    }
   ],
   "source": [
    "for i in range(0,4):\n",
    "    train_X,train_Y=random_p(1000)\n",
    "    print(\"X_train.shape = {}\".format(train_X.shape))\n",
    "    print(\"Y_train.shape = {}\".format(train_Y.shape))\n",
    "    acc=(model_knn(train_X,train_Y))\n",
    "    print(acc)\n",
    "    acc_ran_1000.append(acc)"
   ]
  },
  {
   "cell_type": "code",
   "execution_count": 7,
   "id": "002e0d29-9e8c-4aa2-864c-fb16133f6a94",
   "metadata": {},
   "outputs": [
    {
     "name": "stdout",
     "output_type": "stream",
     "text": [
      "X_train.shape = (5000, 784)\n",
      "Y_train.shape = (5000,)\n",
      "0.9365\n",
      "X_train.shape = (5000, 784)\n",
      "Y_train.shape = (5000,)\n",
      "0.9315\n",
      "X_train.shape = (5000, 784)\n",
      "Y_train.shape = (5000,)\n",
      "0.9319\n",
      "X_train.shape = (5000, 784)\n",
      "Y_train.shape = (5000,)\n",
      "0.9373\n"
     ]
    }
   ],
   "source": [
    "for i in range(0,4):\n",
    "    train_X,train_Y=random_p(5000)\n",
    "    print(\"X_train.shape = {}\".format(train_X.shape))\n",
    "    print(\"Y_train.shape = {}\".format(train_Y.shape))\n",
    "    acc=model_knn(train_X,train_Y)\n",
    "    print(acc)\n",
    "    acc_ran_5000.append(acc)"
   ]
  },
  {
   "cell_type": "code",
   "execution_count": 8,
   "id": "c003c3cc-531d-4ed8-838b-b09bc3f9e18d",
   "metadata": {},
   "outputs": [
    {
     "name": "stdout",
     "output_type": "stream",
     "text": [
      "X_train.shape = (10000, 784)\n",
      "Y_train.shape = (10000,)\n",
      "0.9487\n",
      "X_train.shape = (10000, 784)\n",
      "Y_train.shape = (10000,)\n",
      "0.9493\n",
      "X_train.shape = (10000, 784)\n",
      "Y_train.shape = (10000,)\n",
      "0.9492\n"
     ]
    }
   ],
   "source": [
    "for i in range(0,3):\n",
    "    train_X,train_Y=random_p(10000)\n",
    "    print(\"X_train.shape = {}\".format(train_X.shape))\n",
    "    print(\"Y_train.shape = {}\".format(train_Y.shape))\n",
    "    acc=model_knn(train_X,train_Y)\n",
    "    print(acc)\n",
    "    acc_ran_10000.append(acc)"
   ]
  },
  {
   "cell_type": "code",
   "execution_count": 9,
   "id": "4a07b440-ab18-41c9-a284-14c5954e4002",
   "metadata": {},
   "outputs": [],
   "source": [
    "# print(X_train[0])"
   ]
  },
  {
   "cell_type": "code",
   "execution_count": 11,
   "id": "0df6d0a7-1737-4bec-a28c-da87345c6c95",
   "metadata": {},
   "outputs": [],
   "source": [
    "def kmean_label(m,label,ran):\n",
    "    label_data=[]\n",
    "    for i in range(len(Y_train)):\n",
    "        if Y_train[i]==label:\n",
    "            label_data.append(X_train[i]) \n",
    "    kmeans=KMeans(n_clusters=int(m/10), init='k-means++',random_state=ran).fit(label_data)\n",
    "    closest, _ = pairwise_distances_argmin_min(kmeans.cluster_centers_, label_data)\n",
    "    final_data_label=[]\n",
    "    for i in closest:\n",
    "        final_data_label.append([label_data[i],label])\n",
    "    return(final_data_label)"
   ]
  },
  {
   "cell_type": "code",
   "execution_count": 12,
   "id": "d7cbbc62-cb61-4213-831a-22cb89cfe6f3",
   "metadata": {},
   "outputs": [],
   "source": [
    "def kmean(m,ran):\n",
    "    dataset_points_m=[]\n",
    "    for j in range(0,10):\n",
    "        dataset_points_m.extend(kmean_label(m,j,ran))\n",
    "    return(dataset_points_m)"
   ]
  },
  {
   "cell_type": "code",
   "execution_count": 13,
   "id": "299f40e4-d3e0-4b85-9ee3-d2a99c23e5da",
   "metadata": {},
   "outputs": [],
   "source": [
    "acc_p_1000=[]\n",
    "acc_p_5000=[]\n",
    "acc_p_10000=[]"
   ]
  },
  {
   "cell_type": "code",
   "execution_count": 15,
   "id": "def01e25-80ab-4cd1-8ffe-befb2d8f6657",
   "metadata": {},
   "outputs": [
    {
     "name": "stdout",
     "output_type": "stream",
     "text": [
      "1000\n",
      "0.926\n",
      "1000\n",
      "0.9261\n",
      "1000\n",
      "0.9274\n",
      "1000\n",
      "0.9288\n"
     ]
    }
   ],
   "source": [
    "for i in range(0,4):\n",
    "    dataset_prototype=(kmean(1000,i))\n",
    "    print(len(dataset_prototype))\n",
    "    X_proto=[i[0] for i in dataset_prototype]\n",
    "    Y_proto=[i[1] for i in dataset_prototype]\n",
    "    acc=model_knn(X_proto,Y_proto)\n",
    "    print(acc)\n",
    "    acc_p_1000.append(acc)"
   ]
  },
  {
   "cell_type": "code",
   "execution_count": 16,
   "id": "8c531c64-9ef1-49b6-8690-adeb28bc1bd3",
   "metadata": {},
   "outputs": [
    {
     "name": "stdout",
     "output_type": "stream",
     "text": [
      "5000\n",
      "0.9495\n",
      "5000\n",
      "0.952\n",
      "5000\n",
      "0.9506\n",
      "5000\n",
      "0.9509\n"
     ]
    }
   ],
   "source": [
    "for i in range(0,4):\n",
    "    dataset_prototype=(kmean(5000,i))\n",
    "    print(len(dataset_prototype))\n",
    "    X_proto=[i[0] for i in dataset_prototype]\n",
    "    Y_proto=[i[1] for i in dataset_prototype]\n",
    "    acc=model_knn(X_proto,Y_proto)\n",
    "    print(acc)\n",
    "    acc_p_1000.append(acc)"
   ]
  },
  {
   "cell_type": "code",
   "execution_count": 17,
   "id": "2d0b9301-d37a-402b-b929-67615d990247",
   "metadata": {},
   "outputs": [
    {
     "name": "stdout",
     "output_type": "stream",
     "text": [
      "10000\n",
      "0.9541\n",
      "10000\n",
      "0.9555\n",
      "10000\n",
      "0.9568\n"
     ]
    }
   ],
   "source": [
    "for i in range(0,3):\n",
    "    dataset_prototype=(kmean(10000,i))\n",
    "    print(len(dataset_prototype))\n",
    "    X_proto=[i[0] for i in dataset_prototype]\n",
    "    Y_proto=[i[1] for i in dataset_prototype]\n",
    "    acc=model_knn(X_proto,Y_proto)\n",
    "    print(acc)\n",
    "    acc_p_1000.append(acc)"
   ]
  },
  {
   "cell_type": "code",
   "execution_count": 18,
   "id": "8c412f31-de73-45dd-ad94-a1978c14e75a",
   "metadata": {},
   "outputs": [],
   "source": [
    "import math\n",
    "def compute_confidence_interval(accuracy_score, N):\n",
    "    \n",
    "    confidence = 1.96 * math.sqrt((accuracy_score * (1 - accuracy_score))/N)\n",
    "    min_confidence = accuracy_score - confidence\n",
    "    max_confidence = accuracy_score + confidence\n",
    "\n",
    "    intervals = (min_confidence, max_confidence)\n",
    "        \n",
    "    return intervals"
   ]
  },
  {
   "cell_type": "code",
   "execution_count": 24,
   "id": "f7e90b88-a8f4-43b0-b859-c82a7cc572ad",
   "metadata": {},
   "outputs": [
    {
     "name": "stdout",
     "output_type": "stream",
     "text": [
      "(0.8651193376050245, 0.9046806623949756)\n",
      "(0.9109592053403811, 0.9431907946596189)\n",
      "(0.918943864678377, 0.9496561353216231)\n",
      "\n",
      "(0.9109592053403811, 0.9431907946596189)\n",
      "(0.9373380367171692, 0.9641619632828308)\n",
      "(0.9426815364394441, 0.9682518635605559)\n"
     ]
    }
   ],
   "source": [
    "print(compute_confidence_interval(.8849,1000))\n",
    "print(compute_confidence_interval(.927075,1000))\n",
    "print(compute_confidence_interval(.9343,1000))\n",
    "\n",
    "print()\n",
    "print(compute_confidence_interval(.927075,1000))\n",
    "print(compute_confidence_interval(.95075,1000))\n",
    "print(compute_confidence_interval(.9554667,1000))"
   ]
  },
  {
   "cell_type": "code",
   "execution_count": 43,
   "id": "654a58ad-9424-4ec7-8959-4d1b330ad996",
   "metadata": {},
   "outputs": [],
   "source": [
    "labels = ['1000', '5000', '10000']\n",
    "x_pos = np.arange(len(labels))\n",
    "CTEs = [88.49, 93.43, 94.9067]\n",
    "error = [0.535, 0.481, 0.0798]"
   ]
  },
  {
   "cell_type": "code",
   "execution_count": 44,
   "id": "92c47403-2144-483e-8629-e2d978ef9105",
   "metadata": {},
   "outputs": [
    {
     "data": {
      "image/png": "[encoded data removed]",
      "text/plain": [
       "<Figure size 432x288 with 1 Axes>"
      ]
     },
     "metadata": {
      "needs_background": "light"
     },
     "output_type": "display_data"
    }
   ],
   "source": [
    "fig, ax = plt.subplots()\n",
    "ax.bar(x_pos, CTEs,\n",
    "       yerr=error,\n",
    "       align='center',\n",
    "       alpha=0.5,\n",
    "       ecolor='black',\n",
    "       capsize=10)\n",
    "ax.set_xlabel('Value of M')\n",
    "ax.set_ylabel('Accuracy')\n",
    "ax.set_ylim([86, 96])\n",
    "ax.set_xticks(x_pos)\n",
    "ax.set_xticklabels(labels)\n",
    "ax.set_title('Error Bar for Random Selector')\n",
    "ax.yaxis.grid(True)\n",
    "\n",
    "# Save the figure and show\n",
    "plt.tight_layout()\n",
    "plt.savefig('bar_plot_with_error_bars.png')\n",
    "plt.show()"
   ]
  },
  {
   "cell_type": "code",
   "execution_count": 45,
   "id": "63058a76-c870-48d2-b0c6-b6e7a4c92b30",
   "metadata": {},
   "outputs": [],
   "source": [
    "import matplotlib.pyplot as plt\n",
    "# include if using a Jupyter notebook\n",
    "%matplotlib inline"
   ]
  },
  {
   "cell_type": "code",
   "execution_count": 46,
   "id": "d92b7197-9bbd-4192-8199-36e96b483dcd",
   "metadata": {},
   "outputs": [],
   "source": [
    "labels = ['1000', '5000', '10000']\n",
    "x_pos = np.arange(len(labels))\n",
    "CTEs = [92.7075, 95.075, 95.546]\n",
    "error = [0.2092,0.4812,0.0798]"
   ]
  },
  {
   "cell_type": "code",
   "execution_count": 47,
   "id": "32cc61d9-bf17-4b98-85a3-5baa73ddb73e",
   "metadata": {},
   "outputs": [
    {
     "data": {
      "image/png": "[encoded data removed]",
      "text/plain": [
       "<Figure size 432x288 with 1 Axes>"
      ]
     },
     "metadata": {
      "needs_background": "light"
     },
     "output_type": "display_data"
    }
   ],
   "source": [
    "fig, ax = plt.subplots()\n",
    "ax.bar(x_pos, CTEs,\n",
    "       yerr=error,\n",
    "       align='center',\n",
    "       alpha=0.5,\n",
    "       ecolor='black',\n",
    "       capsize=10)\n",
    "ax.set_xlabel('Value of M')\n",
    "ax.set_ylabel('Accuracy')\n",
    "ax.set_ylim([92, 96])\n",
    "ax.set_xticks(x_pos)\n",
    "ax.set_xticklabels(labels)\n",
    "ax.set_title('Error Bar for K-Means Prototype')\n",
    "ax.yaxis.grid(True)\n",
    "\n",
    "# Save the figure and show\n",
    "plt.tight_layout()\n",
    "plt.savefig('bar_plot_with_error_bars.png')\n",
    "plt.show()"
   ]
  },
  {
   "cell_type": "code",
   "execution_count": null,
   "id": "62c1aa2f-f6cf-4af2-b4d3-fe28b17e3d67",
   "metadata": {},
   "outputs": [],
   "source": []
  }
 ],
 "metadata": {
  "kernelspec": {
   "display_name": "Python 3 (ipykernel)",
   "language": "python",
   "name": "python3"
  },
  "language_info": {
   "codemirror_mode": {
    "name": "ipython",
    "version": 3
   },
   "file_extension": ".py",
   "mimetype": "text/x-python",
   "name": "python",
   "nbconvert_exporter": "python",
   "pygments_lexer": "ipython3",
   "version": "3.9.7"
  }
 },
 "nbformat": 4,
 "nbformat_minor": 5
}
